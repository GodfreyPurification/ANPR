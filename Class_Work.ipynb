{
  "nbformat": 4,
  "nbformat_minor": 0,
  "metadata": {
    "colab": {
      "provenance": [],
      "include_colab_link": true
    },
    "kernelspec": {
      "name": "python3",
      "display_name": "Python 3"
    },
    "language_info": {
      "name": "python"
    }
  },
  "cells": [
    {
      "cell_type": "markdown",
      "metadata": {
        "id": "view-in-github",
        "colab_type": "text"
      },
      "source": [
        "<a href=\"https://colab.research.google.com/github/GodfreyPurification/ANPR/blob/main/Class_Work.ipynb\" target=\"_parent\"><img src=\"https://colab.research.google.com/assets/colab-badge.svg\" alt=\"Open In Colab\"/></a>"
      ]
    },
    {
      "cell_type": "code",
      "execution_count": null,
      "metadata": {
        "colab": {
          "base_uri": "https://localhost:8080/"
        },
        "id": "oAhW26jfPmkw",
        "outputId": "70d7c4ee-0683-43a6-883b-552ce543f105"
      },
      "outputs": [
        {
          "output_type": "stream",
          "name": "stdout",
          "text": [
            "Sifat\n",
            "Tanvir\n",
            "25\n",
            "3.3\n",
            "Name: Sifat Rahman\n",
            "Age:23\n",
            "CGPA: 3.55\n"
          ]
        }
      ],
      "source": [
        "first_name = input()\n",
        "last_name = input()\n",
        "last_name= \"Rahman\"\n",
        "age = int(input())\n",
        "cgpa = float(input())\n",
        "age -= 2\n",
        "cgpa += 0.25\n",
        "print(\"Name: \"+first_name+\" \"+last_name)\n",
        "print(\"Age:\"+ str(age))\n",
        "print(\"CGPA:\", cgpa)"
      ]
    },
    {
      "cell_type": "code",
      "source": [
        "num = int(input())\n",
        "\n",
        "if (num % 2 == 0):\n",
        "  print(\"Even\")\n",
        "else:\n",
        "  print(\"Odd\")"
      ],
      "metadata": {
        "colab": {
          "base_uri": "https://localhost:8080/"
        },
        "id": "k4cSrDufTCqW",
        "outputId": "7cf0c3e9-4742-470b-8d94-f5dc9b294b2f"
      },
      "execution_count": null,
      "outputs": [
        {
          "name": "stdout",
          "output_type": "stream",
          "text": [
            "13\n"
          ]
        }
      ]
    },
    {
      "cell_type": "code",
      "source": [
        "num = int(input())\n",
        "\n",
        "if num == 0:\n",
        "  print(\"Zero\")\n",
        "elif num > 0:\n",
        "  print(\"Positive\")\n",
        "else:\n",
        "  print(\"Negative\")"
      ],
      "metadata": {
        "colab": {
          "base_uri": "https://localhost:8080/"
        },
        "id": "t_W5j6d0UBTe",
        "outputId": "28082539-9185-448e-fdf8-b26df0c222fa"
      },
      "execution_count": null,
      "outputs": [
        {
          "output_type": "stream",
          "name": "stdout",
          "text": [
            "-1\n",
            "Negative\n"
          ]
        }
      ]
    },
    {
      "cell_type": "code",
      "source": [
        "#Nested\n",
        "num = int(input())\n",
        "\n",
        "if num % 5 == 0:\n",
        "  if num % 7 == 0:\n",
        "    print(\"Yes\")\n",
        "  else:\n",
        "    print(\"No\")\n",
        "else:\n",
        "  print(\"No\")"
      ],
      "metadata": {
        "colab": {
          "base_uri": "https://localhost:8080/"
        },
        "id": "mzu2pnkjVc0f",
        "outputId": "dbd50e7f-97a7-4af5-c0e6-ea8d47c9c6ae"
      },
      "execution_count": null,
      "outputs": [
        {
          "output_type": "stream",
          "name": "stdout",
          "text": [
            "14\n",
            "No\n"
          ]
        }
      ]
    },
    {
      "cell_type": "code",
      "source": [
        "#Multiple Conditioning\n",
        "num = int(input())\n",
        "\n",
        "if num % 5 == 0 and num % 7 == 0:\n",
        "  print(\"Yes\")\n",
        "else:\n",
        "  print(\"No\")"
      ],
      "metadata": {
        "colab": {
          "base_uri": "https://localhost:8080/"
        },
        "id": "qpJXgviVWlME",
        "outputId": "8e038c5e-fe53-4439-a5c2-63e0aa492a77"
      },
      "execution_count": null,
      "outputs": [
        {
          "output_type": "stream",
          "name": "stdout",
          "text": [
            "15\n",
            "No\n"
          ]
        }
      ]
    },
    {
      "cell_type": "code",
      "source": [
        "num = int(input())\n",
        "\n",
        "if num % 5 == 0 and num % 7 != 0:\n",
        "  print(\"Yes\")\n",
        "elif num % 5 != 0 and num % 7 == 0:\n",
        "  print(\"Yes\")\n",
        "else:\n",
        "  print(\"No\")"
      ],
      "metadata": {
        "colab": {
          "base_uri": "https://localhost:8080/"
        },
        "id": "JCsGAmMPXtsX",
        "outputId": "faefc67c-0228-4931-e9a2-8be6e2c6bffd"
      },
      "execution_count": null,
      "outputs": [
        {
          "output_type": "stream",
          "name": "stdout",
          "text": [
            "14\n",
            "Yes\n"
          ]
        }
      ]
    },
    {
      "cell_type": "code",
      "source": [
        "quiz = int(input(\"Quiz: \"))\n",
        "mid = int(input(\"Mid: \"))\n",
        "final = int(input(\"Final: \"))\n",
        "\n",
        "total = quiz+mid+final\n",
        "print(\"Total Marks:\", total)\n",
        "\n",
        "if total >= 90:\n",
        "  print(\"Grade: A\")\n",
        "elif 80 <= total <= 89:\n",
        "  print(\"Grade: B\")\n",
        "elif 70 <= total <= 79:\n",
        "  print(\"Grade: C\")\n",
        "else:\n",
        "  print(\"Grade: F\")\n",
        "\n",
        "if 50 <= total <= 80:\n",
        "  print(\"Grade: A\")"
      ],
      "metadata": {
        "colab": {
          "base_uri": "https://localhost:8080/"
        },
        "id": "ZGCWwM34YkpU",
        "outputId": "ae19e261-34f4-4ce7-ae95-3c49956af041"
      },
      "execution_count": null,
      "outputs": [
        {
          "output_type": "stream",
          "name": "stdout",
          "text": [
            "Quiz: 30\n",
            "Mid: 20\n",
            "Final: 30\n",
            "Total Marks: 80\n",
            "Grade: B\n",
            "Grade: A\n"
          ]
        }
      ]
    },
    {
      "cell_type": "code",
      "source": [
        "for tahmid in range (11, 21, 3): #(start, end, step)\n",
        "  print(tahmid)"
      ],
      "metadata": {
        "colab": {
          "base_uri": "https://localhost:8080/"
        },
        "id": "MHQNDwlzfnp0",
        "outputId": "10fdd92d-9d69-4a46-d3ba-571a86a60da5"
      },
      "execution_count": null,
      "outputs": [
        {
          "output_type": "stream",
          "name": "stdout",
          "text": [
            "11\n",
            "14\n",
            "17\n",
            "20\n"
          ]
        }
      ]
    },
    {
      "cell_type": "code",
      "source": [
        "s= \"Red Blue White Red Blue Black Yellow Red\"\n",
        "\n",
        "list1= s.split(\" \")\n",
        "count=0\n",
        "for i in list1:\n",
        "  if i==\"Red\":\n",
        "    count+=1\n",
        "\n",
        "print(count)"
      ],
      "metadata": {
        "colab": {
          "base_uri": "https://localhost:8080/"
        },
        "id": "ChSRsJNWhHEE",
        "outputId": "eb8b1ff0-a4d6-48c9-ceb1-7a681bb4fb0d"
      },
      "execution_count": null,
      "outputs": [
        {
          "output_type": "stream",
          "name": "stdout",
          "text": [
            "3\n"
          ]
        }
      ]
    },
    {
      "cell_type": "code",
      "source": [
        "sum = 0\n",
        "for i in range(5):\n",
        "  num = int(input())\n",
        "  sum = sum + num\n",
        "\n",
        "avg = sum/5\n",
        "print(avg)"
      ],
      "metadata": {
        "colab": {
          "base_uri": "https://localhost:8080/"
        },
        "id": "rpAFO8DGiReO",
        "outputId": "b5c68f13-4455-4f62-c324-921b7f96a084"
      },
      "execution_count": null,
      "outputs": [
        {
          "output_type": "stream",
          "name": "stdout",
          "text": [
            "5\n",
            "10\n",
            "15\n",
            "20\n",
            "8\n",
            "11\n"
          ]
        }
      ]
    },
    {
      "cell_type": "markdown",
      "source": [
        "# Strings\n"
      ],
      "metadata": {
        "id": "eginR65HsU9c"
      }
    },
    {
      "cell_type": "code",
      "source": [
        "name = 'Godfrey Purification'\n",
        "name2 = \"123\"\n",
        "name3 = \"@#$\"\n",
        "\n",
        "print(name+\" \"+name2+\" \"+name3)\n",
        "print(name, name2, name3)"
      ],
      "metadata": {
        "colab": {
          "base_uri": "https://localhost:8080/"
        },
        "id": "380IUFlTsXVS",
        "outputId": "2121838d-f016-4ae2-9328-cbdd26544389"
      },
      "execution_count": null,
      "outputs": [
        {
          "output_type": "stream",
          "name": "stdout",
          "text": [
            "Godfrey Purification 123 @#$\n",
            "Godfrey Purification 123 @#$\n"
          ]
        }
      ]
    },
    {
      "cell_type": "code",
      "source": [
        "# indexing\n",
        "idx=-1\n",
        "for i in range(0, len(name)):\n",
        "  if name[i] ==\"P\":\n",
        "    idx= i\n",
        "    break\n",
        "print(i)\n",
        "print(name[0:2]+name[idx:idx+2])"
      ],
      "metadata": {
        "colab": {
          "base_uri": "https://localhost:8080/"
        },
        "id": "Ns4TQwDmwPUb",
        "outputId": "f7c959a1-e3c5-4ed7-e568-ae64e51f5800"
      },
      "execution_count": null,
      "outputs": [
        {
          "output_type": "stream",
          "name": "stdout",
          "text": [
            "8\n",
            "GoPu\n"
          ]
        }
      ]
    },
    {
      "cell_type": "code",
      "source": [
        "# Slicing\n",
        "print(name[0:3]+name[-4:])"
      ],
      "metadata": {
        "colab": {
          "base_uri": "https://localhost:8080/"
        },
        "id": "yGh2ZxNcw9Zi",
        "outputId": "5cb50137-2806-49ac-bf0c-95ada4d84037"
      },
      "execution_count": null,
      "outputs": [
        {
          "output_type": "stream",
          "name": "stdout",
          "text": [
            "Godtion\n"
          ]
        }
      ]
    },
    {
      "cell_type": "code",
      "source": [
        "print(name[0])\n",
        "print(name[len(name)-1])\n",
        "print(name[-1])\n",
        "print(name[-len(name)])"
      ],
      "metadata": {
        "colab": {
          "base_uri": "https://localhost:8080/"
        },
        "id": "LsxTZ8RXuXhM",
        "outputId": "63f7cda1-646d-4a91-f821-b91726b2312e"
      },
      "execution_count": null,
      "outputs": [
        {
          "output_type": "stream",
          "name": "stdout",
          "text": [
            "G\n",
            "y\n",
            "y\n",
            "G\n"
          ]
        }
      ]
    },
    {
      "cell_type": "code",
      "source": [
        "s= \"He11o\"\n",
        "# for i in s:\n",
        "#   if (i==\"l\"):\n",
        "#     print(\"Yess\")\n",
        "#     break\n",
        "print(\"1\" in s)"
      ],
      "metadata": {
        "colab": {
          "base_uri": "https://localhost:8080/"
        },
        "id": "ruuaxX3izBQ7",
        "outputId": "90027638-ac07-40ab-eb3d-1bbb9695eb67"
      },
      "execution_count": null,
      "outputs": [
        {
          "output_type": "stream",
          "name": "stdout",
          "text": [
            "True\n"
          ]
        }
      ]
    },
    {
      "cell_type": "markdown",
      "source": [
        "# Password Validation"
      ],
      "metadata": {
        "id": "PKllGY06yo84"
      }
    },
    {
      "cell_type": "code",
      "source": [
        "password= input()\n",
        "if len(password)<8:\n",
        "  print(\"Invalid Password\")\n",
        "  print(\"Not enough length\")\n",
        "else:\n",
        "  upper= 0\n",
        "  lower= 0\n",
        "  digit= 0\n",
        "  special= 0\n",
        "\n",
        "  for i in password:\n",
        "    if \"A\"<=i<=\"Z\":\n",
        "      upper= upper+1\n",
        "    elif \"a\"<=i<=\"z\":\n",
        "      lower = lower+1\n",
        "    elif \"0\"<= i <= \"9\":\n",
        "      digit +=1\n",
        "    elif i in \"@#!%$&^*_\":\n",
        "      special += 1\n",
        "\n",
        "  if (upper>0 and lower>0 and digit>0 and special>0):\n",
        "    print(\"Valid Password\")\n",
        "  else:\n",
        "    print(\"Invalid Password\")\n",
        "    if (upper ==0):\n",
        "      print(\"Upper case missing\")\n",
        "    if (lower ==0):\n",
        "      print(\"Lower case missing\")\n",
        "    if (digit ==0):\n",
        "      print(\"Digits missing\")\n",
        "    if (special ==0):\n",
        "      print(\"Special Character missing\")"
      ],
      "metadata": {
        "colab": {
          "base_uri": "https://localhost:8080/"
        },
        "id": "yJadIzUPyDuB",
        "outputId": "5f29bded-d623-45ee-db67-e36220928aa4"
      },
      "execution_count": null,
      "outputs": [
        {
          "output_type": "stream",
          "name": "stdout",
          "text": [
            "gfhh\n",
            "Invalid Password\n",
            "Not enough length\n"
          ]
        }
      ]
    },
    {
      "cell_type": "markdown",
      "source": [
        "# Lists"
      ],
      "metadata": {
        "id": "dFY1KesyquBF"
      }
    },
    {
      "cell_type": "code",
      "source": [
        "l1= [5, 6.0, True]\n",
        "# l1.append(7)\n",
        "print(l1)"
      ],
      "metadata": {
        "colab": {
          "base_uri": "https://localhost:8080/"
        },
        "id": "NQqm38utqu5o",
        "outputId": "9f077012-dfc2-4e25-f5f6-db983c97e0b8"
      },
      "execution_count": null,
      "outputs": [
        {
          "output_type": "stream",
          "name": "stdout",
          "text": [
            "[5, 6.0, True]\n"
          ]
        }
      ]
    },
    {
      "cell_type": "code",
      "source": [
        "import numpy as np\n",
        "arr = np.array([5,6,7])\n",
        "print(arr)"
      ],
      "metadata": {
        "colab": {
          "base_uri": "https://localhost:8080/"
        },
        "id": "-e5K--0R6yYS",
        "outputId": "6e01f7f4-c33d-4ac3-e5b6-b4bc4bd4ffed"
      },
      "execution_count": null,
      "outputs": [
        {
          "output_type": "stream",
          "name": "stdout",
          "text": [
            "[5 6 7]\n"
          ]
        }
      ]
    },
    {
      "cell_type": "code",
      "source": [
        "s= \"Hello world. Nillce to llmeet you!\"\n",
        "l1= s.split(\"ll\")\n",
        "print(l1)"
      ],
      "metadata": {
        "colab": {
          "base_uri": "https://localhost:8080/"
        },
        "id": "J6HrxGdy8Bem",
        "outputId": "1b72746e-f7a2-4391-91f9-aa9c4a66d33c"
      },
      "execution_count": null,
      "outputs": [
        {
          "output_type": "stream",
          "name": "stdout",
          "text": [
            "Hello world.          Nillce to llmeet you!\n"
          ]
        }
      ]
    },
    {
      "cell_type": "markdown",
      "source": [
        "# Functions"
      ],
      "metadata": {
        "id": "w2Cebg2BqmrB"
      }
    },
    {
      "cell_type": "code",
      "source": [
        "def difference (num1, num2):\n",
        "  if num1>num2:\n",
        "    # pass\n",
        "    return num1-num2\n",
        "  else:\n",
        "    # pass\n",
        "    return num2-num1"
      ],
      "metadata": {
        "id": "f9u67BS-qodk"
      },
      "execution_count": null,
      "outputs": []
    },
    {
      "cell_type": "code",
      "source": [
        "print(difference(5,6))\n",
        "print(difference(10,6))\n",
        "print(difference(-5,6))\n",
        "\n",
        "x = difference(5,60)\n",
        "print(x)"
      ],
      "metadata": {
        "colab": {
          "base_uri": "https://localhost:8080/"
        },
        "id": "8Tsfy1VA9U2w",
        "outputId": "458bd23d-e791-4957-e36c-d600d036c8aa"
      },
      "execution_count": null,
      "outputs": [
        {
          "output_type": "stream",
          "name": "stdout",
          "text": [
            "None\n",
            "None\n",
            "None\n",
            "None\n"
          ]
        }
      ]
    },
    {
      "cell_type": "code",
      "source": [
        "def number_range(mithu, anika):\n",
        "  for sobuj in range (mithu, anika+1):\n",
        "    print(sobuj)"
      ],
      "metadata": {
        "id": "n-tNzQ8R_eP2"
      },
      "execution_count": null,
      "outputs": []
    },
    {
      "cell_type": "code",
      "source": [
        "number_range(15,35)\n",
        "print()\n",
        "number_range(5, 10)\n",
        "print()\n",
        "number_range(5, -5)"
      ],
      "metadata": {
        "colab": {
          "base_uri": "https://localhost:8080/"
        },
        "id": "m7ly_Y6FABMU",
        "outputId": "3d8bb696-c250-4213-ec4b-a19dc873785c"
      },
      "execution_count": null,
      "outputs": [
        {
          "output_type": "stream",
          "name": "stdout",
          "text": [
            "15\n",
            "16\n",
            "17\n",
            "18\n",
            "19\n",
            "20\n",
            "21\n",
            "22\n",
            "23\n",
            "24\n",
            "25\n",
            "26\n",
            "27\n",
            "28\n",
            "29\n",
            "30\n",
            "31\n",
            "32\n",
            "33\n",
            "34\n",
            "35\n",
            "\n",
            "5\n",
            "6\n",
            "7\n",
            "8\n",
            "9\n",
            "10\n",
            "\n"
          ]
        }
      ]
    },
    {
      "cell_type": "code",
      "source": [
        "def divisibilty(num):\n",
        "  if num%5==0 and num%10==0 and num%15==0:\n",
        "    return True\n",
        "  else:\n",
        "    return False"
      ],
      "metadata": {
        "id": "FGHeyO3CBNDk"
      },
      "execution_count": null,
      "outputs": []
    },
    {
      "cell_type": "code",
      "source": [
        "print(divisibilty(115))\n",
        "print(divisibilty(135))\n",
        "print(divisibilty(150))"
      ],
      "metadata": {
        "colab": {
          "base_uri": "https://localhost:8080/"
        },
        "id": "9KVCET0OBq0I",
        "outputId": "29bc6f3a-871d-48a6-c9fd-bccddc190948"
      },
      "execution_count": null,
      "outputs": [
        {
          "output_type": "stream",
          "name": "stdout",
          "text": [
            "False\n",
            "False\n",
            "True\n"
          ]
        }
      ]
    }
  ]
}